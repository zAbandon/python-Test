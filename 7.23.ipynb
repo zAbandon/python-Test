{
 "cells": [
  {
   "cell_type": "markdown",
   "metadata": {},
   "source": [
    "# 对象和类\n",
    "- 一个学生，一张桌子，一个圆都是对象\n",
    "- 对象是类的一个实例，你可以创建多个对象，创建类的一个实例过程被称为实例化，\n",
    "- 在Python中对象就是实例，而实例就是对象"
   ]
  },
  {
   "cell_type": "markdown",
   "metadata": {},
   "source": [
    "## 定义类\n",
    "class ClassName:\n",
    "\n",
    "    do something\n",
    "    \n",
    "- class 类的表示与def 一样\n",
    "- 类名最好使用驼峰式\n",
    "- 在Python2中类是需要继承基类object的，在Python中默认继承，可写可不写\n",
    "- 可以将普通代码理解为皮肤，而函数可以理解为内衣，那么类可以理解为外套"
   ]
  },
  {
   "cell_type": "code",
   "execution_count": 34,
   "metadata": {},
   "outputs": [],
   "source": [
    "# 类必须初始化,是用self,初始化自身.\n",
    "# 类里面所有的函数中的第一个变量不再是参数,而是一个印记.\n",
    "# 在类中,如果有参数需要多次使用,那么就可以将其设置为共享参数\n",
    "class Joker:\n",
    "    def __init__(self,num1,num2):\n",
    "        print('我初始化了')\n",
    "        # 参数共享\n",
    "        self.num1 = num1\n",
    "        self.num2 = num2\n",
    "        print(self.num1,self.num2)\n",
    "    def SUM(self,name):\n",
    "        print(name)\n",
    "        return self.num1 + self.num2\n",
    "    def cheng(self):\n",
    "        return self.num1 * self.num2"
   ]
  },
  {
   "cell_type": "code",
   "execution_count": 35,
   "metadata": {},
   "outputs": [
    {
     "name": "stdout",
     "output_type": "stream",
     "text": [
      "我初始化了\n",
      "1 2\n"
     ]
    }
   ],
   "source": [
    "huwang = Joker(num1=1,num2=2) # () 代表直接走初始化函数"
   ]
  },
  {
   "cell_type": "code",
   "execution_count": 36,
   "metadata": {},
   "outputs": [
    {
     "name": "stdout",
     "output_type": "stream",
     "text": [
      "JJJ\n"
     ]
    },
    {
     "data": {
      "text/plain": [
       "3"
      ]
     },
     "execution_count": 36,
     "metadata": {},
     "output_type": "execute_result"
    }
   ],
   "source": [
    "huwang.SUM(name='JJJ')"
   ]
  },
  {
   "cell_type": "code",
   "execution_count": 33,
   "metadata": {},
   "outputs": [
    {
     "data": {
      "text/plain": [
       "2"
      ]
     },
     "execution_count": 33,
     "metadata": {},
     "output_type": "execute_result"
    }
   ],
   "source": [
    "huwang.cheng()"
   ]
  },
  {
   "cell_type": "markdown",
   "metadata": {},
   "source": [
    "## 定义一个不含初始化__init__的简单类\n",
    "class ClassName:\n",
    "\n",
    "    joker = “Home”\n",
    "    \n",
    "    def func():\n",
    "        print('Worker')\n",
    "    \n",
    "- 尽量少使用"
   ]
  },
  {
   "cell_type": "markdown",
   "metadata": {},
   "source": [
    "\n",
    "\n",
    "## 定义一个标准类\n",
    "- __init__ 代表初始化，可以初始化任何动作\n",
    "- 此时类调用要使用()，其中（）可以理解为开始初始化\n",
    "- 初始化内的元素，类中其他的函数可以共享\n",
    "![](../Photo/85.png)"
   ]
  },
  {
   "cell_type": "markdown",
   "metadata": {},
   "source": [
    "- Circle 和 className_ 的第一个区别有 __init__ 这个函数\n",
    "- 。。。。   第二个区别，类中的每一个函数都有self的这个“参数”"
   ]
  },
  {
   "cell_type": "markdown",
   "metadata": {},
   "source": [
    "## 何为self？\n",
    "- self 是指向对象本身的参数\n",
    "- self 只是一个命名规则，其实可以改变的，但是我们约定俗成的是self，也便于理解\n",
    "- 使用了self就可以访问类中定义的成员\n",
    "<img src=\"../Photo/86.png\"></img>"
   ]
  },
  {
   "cell_type": "markdown",
   "metadata": {},
   "source": [
    "## 使用类 Cirlcle"
   ]
  },
  {
   "cell_type": "markdown",
   "metadata": {},
   "source": [
    "## 类的传参\n",
    "- class ClassName:\n",
    "    \n",
    "        def __init__(self, para1,para2...)：\n",
    "            \n",
    "            self.para1 = para1\n",
    "            \n",
    "            self.para2 = para2"
   ]
  },
  {
   "cell_type": "markdown",
   "metadata": {},
   "source": [
    "## EP:\n",
    "- A：定义一个类，类中含有两个功能：\n",
    "    - 1、产生3个随机数，获取最大值\n",
    "    - 2、产生3个随机数，获取最小值\n",
    "- B：定义一个类，（类中函数的嵌套使用）\n",
    "    - 1、第一个函数的功能为：输入一个数字\n",
    "    - 2、第二个函数的功能为：使用第一个函数中得到的数字进行平方处理\n",
    "    - 3、第三个函数的功能为：得到平方处理后的数字 - 原来输入的数字，并打印结果"
   ]
  },
  {
   "cell_type": "code",
   "execution_count": 83,
   "metadata": {},
   "outputs": [],
   "source": [
    "class Joker2:\n",
    "    \"\"\"\n",
    "    Implement Login Class.\n",
    "    \"\"\"\n",
    "    def __init__(self):\n",
    "        \"\"\"\n",
    "        Initialization class\n",
    "        Arguments:\n",
    "        ---------\n",
    "            name: xxx\n",
    "            None.\n",
    "        Returns:\n",
    "        --------\n",
    "            None.\n",
    "        \"\"\"\n",
    "        self.account = '123'\n",
    "        self.password = '123'\n",
    "    def Account(self):\n",
    "        \"\"\"\n",
    "        Input Account value\n",
    "        Arguments:\n",
    "        ---------\n",
    "            None.\n",
    "        Returns:\n",
    "        --------\n",
    "            None.\n",
    "        \"\"\"\n",
    "        self.acc = input('请输入账号:>>')\n",
    "    def Password(self):\n",
    "        \"\"\"\n",
    "        Input Password value\n",
    "        Arguments:\n",
    "        ---------\n",
    "            None.\n",
    "        Returns:\n",
    "        --------\n",
    "            None.\n",
    "        \"\"\"\n",
    "        self.passwor = input('请输入密码:>>')\n",
    "    def Check(self):\n",
    "        \"\"\"\n",
    "        Check account and password\n",
    "        Note:\n",
    "        ----\n",
    "            we need \"and\" connect.\n",
    "            if account and password is right, then login OK.\n",
    "            else: running Veriy func.\n",
    "        \"\"\"\n",
    "        if self.acc == self.account and self.passwor == self.password:\n",
    "            print('Success')\n",
    "        else:\n",
    "            # running Verify !\n",
    "            self.Verify()\n",
    "    def Verify(self):\n",
    "        \"\"\"\n",
    "        Verify ....\n",
    "        \"\"\"\n",
    "        Verify_Var = 123\n",
    "        print('验证码是:',Verify_Var)\n",
    "        while 1:\n",
    "            User_Verify = eval(input('请输入验证码:>>'))\n",
    "            if User_Verify == Verify_Var:\n",
    "                print('Failed')\n",
    "                break\n",
    "    def Start(self):\n",
    "        \"\"\"\n",
    "        Start definelogistics.\n",
    "        \"\"\"\n",
    "        self.Account()\n",
    "        self.Password()\n",
    "        self.Check()"
   ]
  },
  {
   "cell_type": "code",
   "execution_count": 84,
   "metadata": {},
   "outputs": [],
   "source": [
    "# 创建类的一个实例\n",
    "a = Joker2()"
   ]
  },
  {
   "cell_type": "code",
   "execution_count": 82,
   "metadata": {},
   "outputs": [
    {
     "name": "stdout",
     "output_type": "stream",
     "text": [
      "请输入账号:>>123\n",
      "请输入密码:>>1\n",
      "验证码是: 123\n",
      "请输入验证码:>>1\n",
      "请输入验证码:>>1\n",
      "请输入验证码:>>123\n",
      "Failed\n"
     ]
    }
   ],
   "source": [
    "a.Start()"
   ]
  },
  {
   "cell_type": "markdown",
   "metadata": {},
   "source": [
    "## 类的继承\n",
    "- 类的单继承\n",
    "- 类的多继承\n",
    "- 继承标识\n",
    ">  class SonClass(FatherClass):\n",
    "            \n",
    "            def __init__(self):\n",
    "            \n",
    "                FatherClass.__init__(self)"
   ]
  },
  {
   "cell_type": "code",
   "execution_count": 110,
   "metadata": {
    "scrolled": true
   },
   "outputs": [
    {
     "data": {
      "text/plain": [
       "1000"
      ]
     },
     "execution_count": 110,
     "metadata": {},
     "output_type": "execute_result"
    }
   ],
   "source": [
    "a = 100\n",
    "a = 1000\n",
    "a"
   ]
  },
  {
   "cell_type": "markdown",
   "metadata": {},
   "source": [
    "私有变量,不可继承,不可在外部调用,但是可以在内部使用."
   ]
  },
  {
   "cell_type": "code",
   "execution_count": 32,
   "metadata": {},
   "outputs": [],
   "source": [
    "class A:\n",
    "    def __init__(self):\n",
    "        self.__a = 'a'\n",
    "    def a_(self):\n",
    "        print('aa')\n",
    "        print(self.__a)"
   ]
  },
  {
   "cell_type": "code",
   "execution_count": 35,
   "metadata": {},
   "outputs": [
    {
     "name": "stdout",
     "output_type": "stream",
     "text": [
      "hahah\n"
     ]
    }
   ],
   "source": [
    "def b():\n",
    "    a()\n",
    "    \n",
    "def a():\n",
    "    print('hahah')\n",
    "b()"
   ]
  },
  {
   "cell_type": "markdown",
   "metadata": {},
   "source": [
    "# _ _ -- + = / \\ { } [] ! ~ !@ # $ % ^ & * ( ) < > ……"
   ]
  },
  {
   "cell_type": "markdown",
   "metadata": {},
   "source": [
    "## 私有数据域(私有变量，或者私有函数)\n",
    "- 在Python中 变量名或者函数名使用双下划线代表私有  \\__Joker,   def \\__Joker():\n",
    "- 私有数据域不可继承\n",
    "- 私有数据域强制继承   \\__dir__()"
   ]
  },
  {
   "cell_type": "markdown",
   "metadata": {},
   "source": [
    "![](../Photo/87.png)"
   ]
  },
  {
   "cell_type": "markdown",
   "metadata": {},
   "source": [
    "## EP:\n",
    "![](../Photo/88.png)\n",
    "![](../Photo/89.png)\n",
    "![](../Photo/90.png)\n"
   ]
  },
  {
   "cell_type": "markdown",
   "metadata": {},
   "source": [
    "## 类的其他\n",
    "- 类的封装\n",
    "    - 实际上就是将一类功能放在一起，方便未来进行管理\n",
    "- 类的继承（上面已经讲过）\n",
    "- 类的多态\n",
    "    - 包括装饰器：将放在以后处理高级类中教\n",
    "    - 装饰器的好处：当许多类中的函数需要使用同一个功能的时候，那么使用装饰器就会方便许多\n",
    "    - 装饰器是有固定的写法\n",
    "        - 其包括普通装饰器与带参装饰器"
   ]
  },
  {
   "cell_type": "markdown",
   "metadata": {},
   "source": [
    "# Homewor\n",
    "## UML类图可以不用画\n",
    "## UML 实际上就是一个思维图\n",
    "- 1\n",
    "![](../Photo/91.png)"
   ]
  },
  {
   "cell_type": "code",
   "execution_count": 5,
   "metadata": {},
   "outputs": [
    {
     "name": "stdout",
     "output_type": "stream",
     "text": [
      "长：4.0，宽：40.0\n",
      "面积：160.0\n",
      "周长：88.0\n",
      "长：3.5，宽：35.7\n",
      "面积：125.0\n",
      "周长：78.4\n"
     ]
    }
   ],
   "source": [
    "class Rectangle():\n",
    "    def __init__(self,width=1,height=2):\n",
    "        self.width=width\n",
    "        self.height=height\n",
    "    \n",
    "    def getArea(self,width,height):\n",
    "        print('面积：%.1f'%(width*height) )\n",
    "    def getPerimeter(self,width,height):\n",
    "        print('周长：%.1f'%(2*(width+height)))\n",
    "\n",
    "    def chushi(self,width,height):\n",
    "        print('长：%.1f，宽：%.1f'%(width,height))\n",
    "        self.getArea(width,height)\n",
    "        self.getPerimeter(width,height)\n",
    "rectangle=Rectangle()\n",
    "rectangle.chushi(4,40)\n",
    "rectangle.chushi(3.5,35.7)"
   ]
  },
  {
   "cell_type": "markdown",
   "metadata": {},
   "source": [
    "- 2\n",
    "![](../Photo/92.png)"
   ]
  },
  {
   "cell_type": "code",
   "execution_count": 6,
   "metadata": {},
   "outputs": [
    {
     "name": "stdout",
     "output_type": "stream",
     "text": [
      "账户：1122\n",
      "金额：20000.000000\n",
      "月利率:0.003750\n",
      "月利息：75.000000\n",
      "取出金额：2500\n",
      "余额：17500.000000\n",
      "月利率:0.003750\n",
      "月利息：65.625000\n",
      "存入金额：3000\n",
      "余额：20500.000000\n",
      "月利率:0.003750\n",
      "月利息：76.875000\n"
     ]
    }
   ],
   "source": [
    "class Account():\n",
    "    def __init__(self):\n",
    "        self.__id=0\n",
    "        self.__balance=100\n",
    "        self.annuallnterestRate=0\n",
    "\n",
    "    def zhanghu(self,id,balance,annuallnterestRate):\n",
    "        lv=self.getMonthlyInterestRate(annuallnterestRate)\n",
    "        lx=self.getMonthlyInterest(balance,annuallnterestRate)\n",
    "        print('账户：%d'%id)\n",
    "        print('金额：%f'%balance)\n",
    "        print('月利率:%f'%lv)\n",
    "        print('月利息：%f'%lx)\n",
    "\n",
    "\n",
    "    def getMonthlyInterestRate(self,annuallnterestRate):\n",
    "        MonthlyInterestRate=annuallnterestRate/12\n",
    "        return MonthlyInterestRate\n",
    "    def getMonthlyInterest(self,balance,annuallnterestRate):\n",
    "        lv= self.getMonthlyInterestRate(annuallnterestRate)\n",
    "        return balance*lv\n",
    "\n",
    "    def withdraw(self,balance,annuallnterestRate,money):\n",
    "        balance=balance-money\n",
    "        print('取出金额：%d'%money)\n",
    "        print('余额：%f'%balance)\n",
    "        lv=self.getMonthlyInterestRate(annuallnterestRate)\n",
    "        lx=self.getMonthlyInterest(balance,annuallnterestRate)\n",
    "        print('月利率:%f'%lv)\n",
    "        print('月利息：%f'%lx)\n",
    "        \n",
    "\n",
    "    def deposit(self,balance,annuallnterestRate,money):\n",
    "        balance=balance+money\n",
    "        print('存入金额：%d'%money)\n",
    "        print('余额：%f'%balance)\n",
    "        lv=self.getMonthlyInterestRate(annuallnterestRate)\n",
    "        lx=self.getMonthlyInterest(balance,annuallnterestRate)\n",
    "        print('月利率:%f'%lv)\n",
    "        print('月利息：%f'%lx)\n",
    "\n",
    "    \n",
    "if __name__==\"__main__\":\n",
    "    account=Account()\n",
    "    account.zhanghu(1122,20000,0.045)\n",
    "    account. withdraw(20000,0.045,2500) \n",
    "    account.deposit(17500,0.045,3000)"
   ]
  },
  {
   "cell_type": "markdown",
   "metadata": {},
   "source": [
    "- 3\n",
    "![](../Photo/93.png)"
   ]
  },
  {
   "cell_type": "code",
   "execution_count": 7,
   "metadata": {},
   "outputs": [
    {
     "name": "stdout",
     "output_type": "stream",
     "text": [
      "转速：高速\n",
      "半径：3\n",
      "颜色：yellow\n",
      "开关状态:on\n",
      "转速：中速\n",
      "半径：2\n",
      "颜色：blue\n",
      "开关状态:off\n"
     ]
    }
   ],
   "source": [
    "class Fan():\n",
    "    \n",
    "    def __init__(self):\n",
    "        self.SLOW=1\n",
    "        self.MEDIUM=2\n",
    "        self.FAST=3\n",
    "        self.__speed=1\n",
    "        self.__on=False\n",
    "        self.__color='blue'\n",
    "        self.__radius=5\n",
    "    def shixian(self,__speed,__radius,__color,__on):\n",
    "        if __speed==1:\n",
    "            print('转速：低速')\n",
    "        elif __speed==2:\n",
    "            print('转速：中速')\n",
    "        else:\n",
    "            print('转速：高速')\n",
    "        print('半径：%d'%__speed)\n",
    "        print('颜色：%s'%__color)\n",
    "        if __on==False:\n",
    "            print('开关状态:off')\n",
    "        else:\n",
    "            print('开关状态:on')\n",
    "if __name__==\"__main__\":\n",
    "    fan=Fan()\n",
    "    fan.shixian(3,10,\"yellow\",True)\n",
    "    fan.shixian(2,5,\"blue\",False)"
   ]
  },
  {
   "cell_type": "markdown",
   "metadata": {},
   "source": [
    "- 4\n",
    "![](../Photo/94.png)\n",
    "![](../Photo/95.png)"
   ]
  },
  {
   "cell_type": "code",
   "execution_count": 8,
   "metadata": {},
   "outputs": [
    {
     "name": "stdout",
     "output_type": "stream",
     "text": [
      "周长： 3\n",
      "面积： 0.43301270189221946\n",
      "周长： 24\n",
      "面积： 41.569219381653056\n",
      "周长： 40\n",
      "面积： 123.10734148701015\n"
     ]
    }
   ],
   "source": [
    "import math\n",
    "class RegularPolygon():\n",
    "    \n",
    "    def __init__(self):\n",
    "        self.__n=3\n",
    "        self.__side=1\n",
    "        self.__x=0\n",
    "        self.__y=0\n",
    "    def shixian(self,__n=3,__side=1,__x=0,__y=0):\n",
    "        self.getPerimeter(__n,__side)\n",
    "        self.getArea(__n,__side,__x,__y)\n",
    "    def getPerimeter(self,__n,__side):\n",
    "        print('周长：',(__n*__side))\n",
    "    def getArea(self,__n,__side,__x,__y):\n",
    "        Area=(__n*(__side)**2)/(4*math.tan(math.pi/__n))\n",
    "        print('面积：',Area)\n",
    "\n",
    "if __name__ == \"__main__\":\n",
    "    regular=RegularPolygon()\n",
    "    regular.shixian()\n",
    "    regular.shixian(6,4)\n",
    "    regular.shixian(10,4,5.6,7.8)"
   ]
  },
  {
   "cell_type": "markdown",
   "metadata": {},
   "source": [
    "- 5\n",
    "![](../Photo/96.png)"
   ]
  },
  {
   "cell_type": "markdown",
   "metadata": {},
   "source": [
    "- 6\n",
    "![](../Photo/97.png)"
   ]
  },
  {
   "cell_type": "code",
   "execution_count": null,
   "metadata": {},
   "outputs": [],
   "source": [
    "class LinearEquation():\n",
    "    def start(self):\n",
    "    #输入前二个端点\n",
    "        a,b,c,d=map(float,input('Enter the endpoints of the first line segment:').split(' '))\n",
    "    #输入后两个端点\n",
    "        e,f,g,h=map(float,input('Enter the endpoints of the first line segment:').split(' '))\n",
    "        x=a+c+e+g\n",
    "        y=b+d+f+h\n",
    "        print('The intersecting point is :(%.1f,%.1f)'%(x/4,y/4))\n",
    "\n",
    "           \n",
    "if __name__ == \"__main__\":   \n",
    "    linear=LinearEquation()\n",
    "    linear.start()"
   ]
  },
  {
   "cell_type": "markdown",
   "metadata": {},
   "source": [
    "- 7\n",
    "![](../Photo/98.png)"
   ]
  }
 ],
 "metadata": {
  "kernelspec": {
   "display_name": "Python 3",
   "language": "python",
   "name": "python3"
  },
  "language_info": {
   "codemirror_mode": {
    "name": "ipython",
    "version": 3
   },
   "file_extension": ".py",
   "mimetype": "text/x-python",
   "name": "python",
   "nbconvert_exporter": "python",
   "pygments_lexer": "ipython3",
   "version": "3.7.3"
  }
 },
 "nbformat": 4,
 "nbformat_minor": 2
}
